{
 "cells": [
  {
   "cell_type": "code",
   "execution_count": 31,
   "metadata": {},
   "outputs": [],
   "source": [
    "def fluxo_calor_conducao(q_cond, k, dT_dx):\n",
    "  if q_cond == 0:\n",
    "    # Descobrir calor\n",
    "    q_cond = -k*dT_dx\n",
    "    return q_cond\n",
    "  elif k == 0:\n",
    "    # Descobrir condutividade\n",
    "    k = -q_cond/dT_dx\n",
    "    return k\n",
    "  elif dT_dx == 0:\n",
    "    # Descobrir derivada da temperatura\n",
    "    dT_dx = -q_cond/k\n",
    "    return dT_dx"
   ]
  },
  {
   "cell_type": "code",
   "execution_count": 32,
   "metadata": {},
   "outputs": [
    {
     "data": {
      "text/plain": [
       "array([[-1.  ,  1.  ,  1.  ],\n",
       "       [-2.  ,  2.  ,  1.  ],\n",
       "       [-3.  ,  3.  ,  1.  ],\n",
       "       ...,\n",
       "       [ 2.  ,  4.  , -0.5 ],\n",
       "       [ 3.  ,  4.  , -0.75],\n",
       "       [ 4.  ,  4.  , -1.  ]])"
      ]
     },
     "execution_count": 32,
     "metadata": {},
     "output_type": "execute_result"
    }
   ],
   "source": [
    "import pandas as pd\n",
    "import numpy as np\n",
    "\n",
    "#df = pd.DataFrame(columns=['q_cond', 'k', 'dT_dx'], dtype=np.int8)\n",
    "A = np.array([[0,0,0]])\n",
    "for j in range(1,5):\n",
    "  for i in range(1,5):\n",
    "    x = fluxo_calor_conducao(0, i, j)\n",
    "    A = np.append(A, [[x, i, j]], axis=0)\n",
    "\n",
    "for j in range(20,50):\n",
    "  for i in range(14,32):\n",
    "    x = fluxo_calor_conducao(i, 0, j)\n",
    "    A = np.append(A, [[i, x, j]], axis=0)\n",
    "\n",
    "for j in range(223,23):\n",
    "  for i in range(44,77):\n",
    "    x = fluxo_calor_conducao(i, j, 0)\n",
    "    A = np.append(A, [[i, j, x]], axis=0)\n",
    "\n",
    "A = np.delete(A, 0, 0)\n",
    "A"
   ]
  },
  {
   "cell_type": "code",
   "execution_count": 33,
   "metadata": {},
   "outputs": [],
   "source": [
    "df = pd.DataFrame(A, columns=['q_cond', 'k', 'dT_dx'])\n",
    "df.to_csv('q_cond.csv')"
   ]
  },
  {
   "cell_type": "code",
   "execution_count": null,
   "metadata": {},
   "outputs": [],
   "source": []
  }
 ],
 "metadata": {
  "kernelspec": {
   "display_name": "Python 3.9.4 64-bit",
   "language": "python",
   "name": "python3"
  },
  "language_info": {
   "codemirror_mode": {
    "name": "ipython",
    "version": 3
   },
   "file_extension": ".py",
   "mimetype": "text/x-python",
   "name": "python",
   "nbconvert_exporter": "python",
   "pygments_lexer": "ipython3",
   "version": "3.9.4"
  },
  "orig_nbformat": 4,
  "vscode": {
   "interpreter": {
    "hash": "33e0ccba7d6455ad36d9e8e37b48a197789eab62a4c4b3e5410506b7cc84992d"
   }
  }
 },
 "nbformat": 4,
 "nbformat_minor": 2
}
